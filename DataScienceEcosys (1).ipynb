{
 "cells": [
  {
   "cell_type": "markdown",
   "id": "acf69c41",
   "metadata": {},
   "source": [
    "## Data science Tools and Ecosystem"
   ]
  },
  {
   "cell_type": "markdown",
   "id": "6d267f75",
   "metadata": {},
   "source": [
    "\n",
    "In this notebook ,data science Tools and Ecosystem are summarized\n",
    "\n"
   ]
  },
  {
   "cell_type": "markdown",
   "id": "f17d1f47",
   "metadata": {},
   "source": [
    "Some of the popular languages that data scientists use are:\n",
    "1. Python\n",
    "2. R\n",
    "3. Scala\n",
    "4. java\n",
    "5. c++\n",
    "6. javascript\n",
    "7. php\n",
    "8. Go\n",
    "9. Ruby\n",
    "10. visual basic\n",
    "\n",
    "\n"
   ]
  },
  {
   "cell_type": "markdown",
   "id": "beba2bd2",
   "metadata": {},
   "source": [
    "Some of the commonly used libraries used by Data Scientists include:\n",
    "1. NumPy\n",
    "2. Pandas\n",
    "3. Matplotlib\n",
    "4. Seaborn\n",
    "5. PyTorch\n",
    "6. Tensorflow\n",
    "7. Vegas\n",
    "8. Big DL\n",
    "9. Ggplot2\n",
    "\n"
   ]
  },
  {
   "cell_type": "markdown",
   "id": "6625eed4",
   "metadata": {},
   "source": [
    "\n",
    "## Data Science Tools\n",
    "\n",
    "| Outil          | Description                                      |\n",
    "|----------------|--------------------------------------------------|\n",
    "| Jupyter Notebook | Environnement interactif pour le code et la documentation. |\n",
    "| TensorFlow     | Bibliothèque d'apprentissage automatique.              |\n",
    "| scikit-learn   | Bibliothèque d'apprentissage automatique.              |\n",
    "| Tableau        | Outil de visualisation de données.                    |\n",
    "| ...\n",
    "\n"
   ]
  },
  {
   "cell_type": "markdown",
   "id": "68204e76",
   "metadata": {},
   "source": [
    "\n",
    "### Below are a few wxamples of evaluating arithmetic expressions in python\n",
    "\n"
   ]
  },
  {
   "cell_type": "code",
   "execution_count": 10,
   "id": "8f8c3958",
   "metadata": {},
   "outputs": [
    {
     "data": {
      "text/plain": [
       "21"
      ]
     },
     "execution_count": 10,
     "metadata": {},
     "output_type": "execute_result"
    }
   ],
   "source": [
    "#This a simple aritmetic expression \n",
    "(3*4)+9\n"
   ]
  },
  {
   "cell_type": "code",
   "execution_count": 11,
   "id": "f44e5796",
   "metadata": {},
   "outputs": [
    {
     "data": {
      "text/plain": [
       "3"
      ]
     },
     "execution_count": 11,
     "metadata": {},
     "output_type": "execute_result"
    }
   ],
   "source": [
    "#This will convert 200 minutes to hours \n",
    "200//60"
   ]
  },
  {
   "cell_type": "markdown",
   "id": "889509ab",
   "metadata": {},
   "source": [
    "\n",
    "## Objectives\n",
    "- Explorer différents langages et bibliothèques de la science des données.\n",
    "- Présenter divers outils utilisés en science des données.\n",
    "- Illustrer des exemples d'expressions arithmétiques et de calculs.\n",
    "\n",
    "\n"
   ]
  },
  {
   "cell_type": "markdown",
   "id": "b18fb646",
   "metadata": {},
   "source": [
    "\n",
    "## Author\n",
    " Drissia Ennagoura\n",
    "\n"
   ]
  },
  {
   "cell_type": "code",
   "execution_count": null,
   "id": "f7e90de3",
   "metadata": {},
   "outputs": [],
   "source": []
  }
 ],
 "metadata": {
  "kernelspec": {
   "display_name": "Python 3 (ipykernel)",
   "language": "python",
   "name": "python3"
  },
  "language_info": {
   "codemirror_mode": {
    "name": "ipython",
    "version": 3
   },
   "file_extension": ".py",
   "mimetype": "text/x-python",
   "name": "python",
   "nbconvert_exporter": "python",
   "pygments_lexer": "ipython3",
   "version": "3.11.3"
  }
 },
 "nbformat": 4,
 "nbformat_minor": 5
}
